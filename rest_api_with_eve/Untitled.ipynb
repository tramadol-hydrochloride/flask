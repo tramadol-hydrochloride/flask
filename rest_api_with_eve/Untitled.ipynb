{
 "cells": [
  {
   "cell_type": "code",
   "execution_count": null,
   "metadata": {},
   "outputs": [],
   "source": [
    "# setting.py\n",
    "\n",
    "URL_PREFIX = 'api'\n",
    "MONGO_DBNAME = 'nobel_prize'\n",
    "DOMAIN = {\n",
    "    'winners': {\n",
    "        'schema': {\n",
    "            'country': {'type': 'string'},\n",
    "            'category': {'type': 'string'},\n",
    "            'name': {'type': 'string'},\n",
    "            'year': {'type': 'integer'},\n",
    "            'gender': {'type': 'string'}\n",
    "        }\n",
    "    }\n",
    "}\n",
    "X_DOMAINS = 'http://localhost:8080'"
   ]
  },
  {
   "cell_type": "markdown",
   "metadata": {},
   "source": [
    "In ```settings.py``` we specify our preferred URL prefix for the API (api), the name of the database we're serving (nobel_prize), and the table we're exposing (winners) in the DOMAIN dictionary.\n",
    "It's sensible to add a schema providing at least the type of the fields we're exposing:"
   ]
  },
  {
   "cell_type": "markdown",
   "metadata": {},
   "source": [
    "X_DOMAINS variable allows a list of domains that are allowed to perform a CORS request."
   ]
  },
  {
   "cell_type": "code",
   "execution_count": null,
   "metadata": {},
   "outputs": [],
   "source": []
  }
 ],
 "metadata": {
  "kernelspec": {
   "display_name": "Python 3",
   "language": "python",
   "name": "python3"
  },
  "language_info": {
   "codemirror_mode": {
    "name": "ipython",
    "version": 3
   },
   "file_extension": ".py",
   "mimetype": "text/x-python",
   "name": "python",
   "nbconvert_exporter": "python",
   "pygments_lexer": "ipython3",
   "version": "3.7.5"
  }
 },
 "nbformat": 4,
 "nbformat_minor": 2
}
